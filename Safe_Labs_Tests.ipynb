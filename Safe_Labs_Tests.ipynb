{
  "nbformat": 4,
  "nbformat_minor": 0,
  "metadata": {
    "colab": {
      "name": "Safe-Labs-Tests.ipynb",
      "provenance": []
    },
    "kernelspec": {
      "name": "python3",
      "display_name": "Python 3"
    },
    "language_info": {
      "name": "python"
    }
  },
  "cells": [
    {
      "cell_type": "markdown",
      "source": [
        "# Teste Técnico- Safe Labs "
      ],
      "metadata": {
        "id": "yJKA8zd1HQ_j"
      }
    },
    {
      "cell_type": "markdown",
      "source": [
        "- Neste Notebook serão feitas explorações de possíveis funções para serem utilizadas no projeto, além de testes de conexões com os dados que serão conectados ao projeto. "
      ],
      "metadata": {
        "id": "VyKoHYV7RgIC"
      }
    },
    {
      "cell_type": "code",
      "source": [
        "# Função simples para demostrar a proposta e ficar mais visual para os próximos passos\n",
        "def BestTrack (temp):\n",
        "  if temp > 30:\n",
        "    print(\"party track!\")\n",
        "  elif 14 < temp < 31:\n",
        "    print(\"pop music!\")\n",
        "  elif 9 < temp < 15:\n",
        "    print(\"rock music\")\n",
        "  elif temp < 10:\n",
        "    print(\"Classical Music\")"
      ],
      "metadata": {
        "id": "6tHJOGL8Hbmd"
      },
      "execution_count": null,
      "outputs": []
    },
    {
      "cell_type": "code",
      "source": [
        "BestTrack(24)"
      ],
      "metadata": {
        "colab": {
          "base_uri": "https://localhost:8080/"
        },
        "id": "9yltDjN3ToYX",
        "outputId": "31460773-1ed3-454c-b4fe-bb9968d27e15"
      },
      "execution_count": null,
      "outputs": [
        {
          "output_type": "stream",
          "name": "stdout",
          "text": [
            "pop music!\n"
          ]
        }
      ]
    },
    {
      "cell_type": "code",
      "source": [
        "BestTrack(3)"
      ],
      "metadata": {
        "colab": {
          "base_uri": "https://localhost:8080/"
        },
        "id": "qBZFJkk7Tr0M",
        "outputId": "3248d93e-fd87-47e6-ee10-4655cdb51ec1"
      },
      "execution_count": null,
      "outputs": [
        {
          "output_type": "stream",
          "name": "stdout",
          "text": [
            "Classical Music\n"
          ]
        }
      ]
    },
    {
      "cell_type": "code",
      "source": [
        "def btInput():\n",
        "  print(\"Qual a temperatura no seu local ? \")\n",
        "  temp = input()\n",
        "  temp = int(temp)\n",
        "  if temp > 30:\n",
        "    print(\"party track!\")\n",
        "  elif 14 < temp < 31:\n",
        "    print(\"pop music!\")\n",
        "  elif 9 < temp < 15:\n",
        "    print(\"rock music\")\n",
        "  elif temp < 10:\n",
        "    print(\"Classical Music\")"
      ],
      "metadata": {
        "id": "NwQXnkRTT-oc"
      },
      "execution_count": null,
      "outputs": []
    },
    {
      "cell_type": "code",
      "source": [
        "btInput()"
      ],
      "metadata": {
        "colab": {
          "base_uri": "https://localhost:8080/"
        },
        "id": "2ptNFOY2bkkD",
        "outputId": "6681f5af-5e5b-41c8-8287-22619468afa1"
      },
      "execution_count": null,
      "outputs": [
        {
          "output_type": "stream",
          "name": "stdout",
          "text": [
            "Qual a temperatura no seu local ? \n",
            "12\n",
            "rock music\n"
          ]
        }
      ]
    },
    {
      "cell_type": "code",
      "source": [
        ""
      ],
      "metadata": {
        "id": "Zj3tHa8Tbn7b"
      },
      "execution_count": 1,
      "outputs": []
    },
    {
      "cell_type": "code",
      "source": [
        ""
      ],
      "metadata": {
        "id": "FijB5l5KIQsH"
      },
      "execution_count": null,
      "outputs": []
    }
  ]
}